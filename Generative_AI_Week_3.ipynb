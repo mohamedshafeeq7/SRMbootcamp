{
  "nbformat": 4,
  "nbformat_minor": 0,
  "metadata": {
    "colab": {
      "provenance": []
    },
    "kernelspec": {
      "name": "python3",
      "display_name": "Python 3"
    },
    "language_info": {
      "name": "python"
    }
  },
  "cells": [
    {
      "cell_type": "markdown",
      "source": [
        "Write a program implementing an image processing pipeline using Python and OpenCV to remove noise from image.\n",
        "\n"
      ],
      "metadata": {
        "id": "zogh_dHdxvPl"
      }
    },
    {
      "cell_type": "code",
      "source": [
        "import cv2\n",
        "\n",
        "def remove_noise(image_path, output_path):\n",
        "    # Read the image\n",
        "    img = cv2.imread(image_path)\n",
        "\n",
        "    # Apply Non-Local Means Denoising\n",
        "    denoised_img = cv2.fastNlMeansDenoisingColored(img, None, 10, 10, 7, 21)\n",
        "\n",
        "    # Save the denoised image\n",
        "    cv2.imwrite(output_path, denoised_img)\n",
        "\n",
        "if __name__ == \"__main__\":\n",
        "    # Replace 'input_image.jpg' with the path to your input image\n",
        "    input_image_path = '/content/null.jpg'\n",
        "\n",
        "    # Replace 'denoised_image.jpg' with the desired output file path\n",
        "    output_image_path = '/content/denoised_image.jpg'\n",
        "\n",
        "    remove_noise(input_image_path, output_image_path)\n"
      ],
      "metadata": {
        "id": "YR-UAEfe2San"
      },
      "execution_count": null,
      "outputs": []
    },
    {
      "cell_type": "markdown",
      "source": [
        "Write a program that reads an image, converts its color space from BGR to RGB, and transforms it between NumPy array and PIL Image object representations, so that the same can be used for filtering, enhancement, or analysis"
      ],
      "metadata": {
        "id": "04wO29Gu_zQP"
      }
    },
    {
      "cell_type": "code",
      "source": [
        "import cv2\n",
        "from PIL import Image\n",
        "import numpy as np\n",
        "\n",
        "def bgr_to_rgb(image_bgr):\n",
        "    # Convert BGR image to RGB using numpy\n",
        "    image_rgb = cv2.cvtColor(image_bgr, cv2.COLOR_BGR2RGB)\n",
        "    return image_rgb\n",
        "\n",
        "def rgb_to_bgr(image_rgb):\n",
        "    # Convert RGB image to BGR using numpy\n",
        "    image_bgr = cv2.cvtColor(image_rgb, cv2.COLOR_RGB2BGR)\n",
        "    return image_bgr\n",
        "\n",
        "def numpy_array_to_pil(image_np):\n",
        "    # Convert NumPy array to PIL Image object\n",
        "    pil_image = Image.fromarray(image_np)\n",
        "    return pil_image\n",
        "\n",
        "def pil_to_numpy_array(pil_image):\n",
        "    # Convert PIL Image object to NumPy array\n",
        "    image_np = np.array(pil_image)\n",
        "    return image_np\n",
        "\n",
        "if __name__ == \"__main__\":\n",
        "    # Replace 'input_image.jpg' with the path to your input image\n",
        "    input_image_path = 'input_image.jpg'\n",
        "\n",
        "    # Read the image using OpenCV\n",
        "    image_bgr = cv2.imread(input_image_path)\n",
        "\n",
        "    # Convert BGR image to RGB\n",
        "    image_rgb = bgr_to_rgb(image_bgr)\n",
        "\n",
        "    # Do filtering, enhancement, or analysis on the RGB image here if needed\n",
        "\n",
        "    # Convert RGB image back to BGR\n",
        "    image_bgr_transformed = rgb_to_bgr(image_rgb)\n",
        "\n",
        "    # Convert BGR image to PIL Image object\n",
        "    pil_image = numpy_array_to_pil(image_bgr_transformed)\n",
        "\n",
        "    # Save the transformed image (optional)\n",
        "    output_image_path = 'output_image.jpg'\n",
        "    pil_image.save(output_image_path)\n",
        "\n",
        "    # Convert PIL Image object back to NumPy array\n",
        "    image_np_transformed = pil_to_numpy_array(pil_image)\n",
        "\n",
        "    # Now, you can use the NumPy array representation for further processing or analysis\n"
      ],
      "metadata": {
        "id": "JvqrKi22Apxd"
      },
      "execution_count": null,
      "outputs": []
    },
    {
      "cell_type": "markdown",
      "source": [
        "Write a program that reads an image, and converts its color space to HSV, applies color-based filtering to identify brown areas, and then changes the color of those areas to red. The resulting image highlights the regions that were detected as brown"
      ],
      "metadata": {
        "id": "qjp0f04qDIq3"
      }
    },
    {
      "cell_type": "code",
      "source": [
        "import cv2\n",
        "import numpy as np\n",
        "\n",
        "def highlight_brown_areas(image_path, output_path):\n",
        "    # Read the image\n",
        "    image = cv2.imread(image_path)\n",
        "\n",
        "    # Convert the image to HSV color space\n",
        "    hsv_image = cv2.cvtColor(image, cv2.COLOR_BGR2HSV)\n",
        "\n",
        "    # Define the lower and upper bounds for brown color in HSV\n",
        "    lower_brown = np.array([10, 50, 50])\n",
        "    upper_brown = np.array([30, 255, 255])\n",
        "\n",
        "    # Create a mask based on the brown color range\n",
        "    mask = cv2.inRange(hsv_image, lower_brown, upper_brown)\n",
        "\n",
        "    # Create a red color image\n",
        "    red_color = np.array([0, 0, 255], dtype=np.uint8)\n",
        "    red_image = np.zeros_like(image)\n",
        "    red_image[:, :] = red_color\n",
        "\n",
        "    # Use the mask to highlight the brown areas in the original image\n",
        "    highlighted_image = np.where(mask[:, :, np.newaxis], red_image, image)\n",
        "\n",
        "    # Save the resulting image\n",
        "    cv2.imwrite(output_path, highlighted_image)\n",
        "\n",
        "if __name__ == \"__main__\":\n",
        "    # Replace 'input_image.jpg' with the path to your input image\n",
        "    input_image_path = '/content/input_image.jpg'\n",
        "\n",
        "    # Replace 'highlighted_image.jpg' with the desired output file path\n",
        "    output_image_path = '/content/highlighted_image.jpg'\n",
        "\n",
        "    highlight_brown_areas(input_image_path, output_image_path)\n"
      ],
      "metadata": {
        "id": "uqN9pMNdDJiV"
      },
      "execution_count": null,
      "outputs": []
    }
  ]
}